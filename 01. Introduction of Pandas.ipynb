{
 "cells": [
  {
   "cell_type": "markdown",
   "metadata": {},
   "source": [
    "## What is Pandas?\n",
    "* Pandas is powerful data analysis toolkit.\n",
    "* Open source\n",
    "* A fast and efficient DataFrame object for data manipulation\n",
    "* Reading and writing data structure and different format: csc, tsv, txt, XML, JSON, ZIP etc"
   ]
  },
  {
   "cell_type": "markdown",
   "metadata": {},
   "source": [
    "## Pandas vs Excel\n",
    "we can manual handle missing value in Excel but when we have large number od dataset then ?"
   ]
  },
  {
   "cell_type": "markdown",
   "metadata": {},
   "source": [
    "## Pandas Data Structures"
   ]
  },
  {
   "cell_type": "markdown",
   "metadata": {},
   "source": [
    "1. Series\n",
    "2. DataFrame\n",
    "3. Panel"
   ]
  },
  {
   "cell_type": "markdown",
   "metadata": {},
   "source": [
    "### 1. Series\n",
    "* Pandas Series is a one-dimensional labeled array capable of holding data of any type (integer, string, float, python objects, etc.). \n",
    "* Pandas Series is nothing but a column in an excel sheet.\n",
    "![](https://www.datasciencemadesimple.com/wp-content/uploads/2020/05/Get-the-absolute-value-of-column-in-pandas-python-1.png)"
   ]
  },
  {
   "cell_type": "markdown",
   "metadata": {},
   "source": [
    "### 2. DataFrame\n",
    "* DataFrame is a 2-dimensional labeled data structure with columns of potentially different types\n",
    "* Add of two series will make DataFrame\n",
    "![](https://petruknisme.com/wp-content/uploads/2019/04/series-and-dataframe.width-1200.png)"
   ]
  },
  {
   "cell_type": "markdown",
   "metadata": {},
   "source": [
    "### 3. Panel\n",
    "* Panel is a very important container for three-dimensional data\n",
    "![](https://python-tricks.com/wp-content/uploads/2020/01/Panel.jpg)"
   ]
  },
  {
   "cell_type": "markdown",
   "metadata": {},
   "source": [
    "## Pandas vs NumPy\n",
    "NumPy is used for the implementation of Pandas data objects"
   ]
  },
  {
   "cell_type": "markdown",
   "metadata": {},
   "source": [
    "## Installation of Pandas\n",
    "pip install Pandas"
   ]
  },
  {
   "cell_type": "markdown",
   "metadata": {},
   "source": [
    "## How to use Pandas\n",
    "import pandas as pd"
   ]
  }
 ],
 "metadata": {
  "kernelspec": {
   "display_name": "Python 3",
   "language": "python",
   "name": "python3"
  },
  "language_info": {
   "codemirror_mode": {
    "name": "ipython",
    "version": 3
   },
   "file_extension": ".py",
   "mimetype": "text/x-python",
   "name": "python",
   "nbconvert_exporter": "python",
   "pygments_lexer": "ipython3",
   "version": "3.6.1"
  }
 },
 "nbformat": 4,
 "nbformat_minor": 2
}
